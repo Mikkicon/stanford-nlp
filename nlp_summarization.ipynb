{
  "nbformat": 4,
  "nbformat_minor": 0,
  "metadata": {
    "colab": {
      "provenance": [],
      "toc_visible": true
    },
    "kernelspec": {
      "name": "python3",
      "display_name": "Python 3"
    },
    "language_info": {
      "name": "python"
    }
  },
  "cells": [
    {
      "cell_type": "code",
      "execution_count": null,
      "metadata": {
        "id": "q6HTJVFiduxS"
      },
      "outputs": [],
      "source": [
        "!pip install newspaper3k"
      ]
    },
    {
      "cell_type": "code",
      "source": [
        "from newspaper import Article\n",
        "\n",
        "url = 'https://www.sciencedaily.com/releases/2021/08/210811162816.htm'\n",
        "article = Article(url)\n",
        "article.download()\n",
        "article.parse()"
      ],
      "metadata": {
        "id": "COT3TFFAefvB"
      },
      "execution_count": null,
      "outputs": []
    },
    {
      "cell_type": "code",
      "source": [
        "article.text"
      ],
      "metadata": {
        "colab": {
          "base_uri": "https://localhost:8080/",
          "height": 165
        },
        "id": "JXEhTMGnehDA",
        "outputId": "ee9d6951-768c-4be8-b7e6-8655c218bf9e"
      },
      "execution_count": null,
      "outputs": [
        {
          "output_type": "execute_result",
          "data": {
            "text/plain": [
              "'It is increasingly clear that the prolonged drought conditions, record-breaking heat, sustained wildfires, and frequent, more extreme storms experienced in recent years are a direct result of rising global temperatures brought on by humans\\' addition of carbon dioxide to the atmosphere. And a new MIT study on extreme climate events in Earth\\'s ancient history suggests that today\\'s planet may become more volatile as it continues to warm.\\n\\nThe study, appearing today in Science Advances, examines the paleoclimate record of the last 66 million years, during the Cenozoic era, which began shortly after the extinction of the dinosaurs. The scientists found that during this period, fluctuations in the Earth\\'s climate experienced a surprising \"warming bias.\" In other words, there were far more warming events -- periods of prolonged global warming, lasting thousands to tens of thousands of years -- than cooling events. What\\'s more, warming events tended to be more extreme, with greater shifts in temperature, than cooling events.\\n\\nThe researchers say a possible explanation for this warming bias may lie in a \"multiplier effect,\" whereby a modest degree of warming -- for instance from volcanoes releasing carbon dioxide into the atmosphere -- naturally speeds up certain biological and chemical processes that enhance these fluctuations, leading, on average, to still more warming.\\n\\nInterestingly, the team observed that this warming bias disappeared about 5 million years ago, around the time when ice sheets started forming in the Northern Hemisphere. It\\'s unclear what effect the ice has had on the Earth\\'s response to climate shifts. But as today\\'s Arctic ice recedes, the new study suggests that a multiplier effect may kick back in, and the result may be a further amplification of human-induced global warming.\\n\\n\"The Northern Hemisphere\\'s ice sheets are shrinking, and could potentially disappear as a long-term consequence of human actions\" says the study\\'s lead author Constantin Arnscheidt, a graduate student in MIT\\'s Department of Earth, Atmospheric and Planetary Sciences. \"Our research suggests that this may make the Earth\\'s climate fundamentally more susceptible to extreme, long-term global warming events such as those seen in the geologic past.\"\\n\\nArnscheidt\\'s study co-author is Daniel Rothman, professor of geophysics at MIT, and co-founder and co-director of MIT\\'s Lorenz Center.\\n\\nA volatile push\\n\\nFor their analysis, the team consulted large databases of sediments containing deep-sea benthic foraminifera -- single-celled organisms that have been around for hundreds of millions of years and whose hard shells are preserved in sediments. The composition of these shells is affected by the ocean temperatures as organisms are growing; the shells are therefore considered a reliable proxy for the Earth\\'s ancient temperatures.\\n\\nFor decades, scientists have analyzed the composition of these shells, collected from all over the world and dated to various time periods, to track how the Earth\\'s temperature has fluctuated over millions of years.\\n\\n\"When using these data to study extreme climate events, most studies have focused on individual large spikes in temperature, typically of a few degrees Celsius warming,\" Arnscheidt says. \"Instead, we tried to look at the overall statistics and consider all the fluctuations involved, rather than picking out the big ones.\"\\n\\nThe team first carried out a statistical analysis of the data and observed that, over the last 66 million years, the distribution of global temperature fluctuations didn\\'t resemble a standard bell curve, with symmetric tails representing an equal probability of extreme warm and extreme cool fluctuations. Instead, the curve was noticeably lopsided, skewed toward more warm than cool events. The curve also exhibited a noticeably longer tail, representing warm events that were more extreme, or of higher temperature, than the most extreme cold events.\\n\\n\"This indicates there\\'s some sort of amplification relative to what you would otherwise have expected,\" Arnscheidt says. \"Everything\\'s pointing to something fundamental that\\'s causing this push, or bias toward warming events.\"\\n\\n\"It\\'s fair to say that the Earth system becomes more volatile, in a warming sense,\" Rothman adds.\\n\\nA warming multiplier\\n\\nThe team wondered whether this warming bias might have been a result of \"multiplicative noise\" in the climate-carbon cycle. Scientists have long understood that higher temperatures, up to a point, tend to speed up biological and chemical processes. Because the carbon cycle, which is a key driver of long-term climate fluctuations, is itself composed of such processes, increases in temperature may lead to larger fluctuations, biasing the system towards extreme warming events.\\n\\nIn mathematics, there exists a set of equations that describes such general amplifying, or multiplicative effects. The researchers applied this multiplicative theory to their analysis to see whether the equations could predict the asymmetrical distribution, including the degree of its skew and the length of its tails.\\n\\nIn the end, they found that the data, and the observed bias toward warming, could be explained by the multiplicative theory. In other words, it\\'s very likely that, over the last 66 million years, periods of modest warming were on average further enhanced by multiplier effects, such as the response of biological and chemical processes that further warmed the planet.\\n\\nAs part of the study, the researchers also looked at the correlation between past warming events and changes in Earth\\'s orbit. Over hundreds of thousands of years, Earth\\'s orbit around the sun regularly becomes more or less elliptical. But scientists have wondered why many past warming events appeared to coincide with these changes, and why these events feature outsized warming compared with what the change in Earth\\'s orbit could have wrought on its own.\\n\\nSo, Arnscheidt and Rothman incorporated the Earth\\'s orbital changes into the multiplicative model and their analysis of Earth\\'s temperature changes, and found that multiplier effects could predictably amplify, on average, the modest temperature rises due to changes in Earth\\'s orbit.\\n\\n\"Climate warms and cools in synchrony with orbital changes, but the orbital cycles themselves would predict only modest changes in climate,\" Rothman says. \"But if we consider a multiplicative model, then modest warming, paired with this multiplier effect, can result in extreme events that tend to occur at the same time as these orbital changes.\"\\n\\n\"Humans are forcing the system in a new way,\" Arnscheidt adds. \"And this study is showing that, when we increase temperature, we\\'re likely going to interact with these natural, amplifying effects.\"\\n\\nThis research was supported, in part, by MIT\\'s School of Science.'"
            ],
            "application/vnd.google.colaboratory.intrinsic+json": {
              "type": "string"
            }
          },
          "metadata": {},
          "execution_count": 3
        }
      ]
    },
    {
      "cell_type": "code",
      "source": [
        "!pip install nltk"
      ],
      "metadata": {
        "colab": {
          "base_uri": "https://localhost:8080/"
        },
        "id": "C97Zkjalejc2",
        "outputId": "e8e98e84-587f-4152-dee1-0db9c5514a58"
      },
      "execution_count": null,
      "outputs": [
        {
          "output_type": "stream",
          "name": "stdout",
          "text": [
            "Looking in indexes: https://pypi.org/simple, https://us-python.pkg.dev/colab-wheels/public/simple/\n",
            "Requirement already satisfied: nltk in /usr/local/lib/python3.8/dist-packages (3.7)\n",
            "Requirement already satisfied: joblib in /usr/local/lib/python3.8/dist-packages (from nltk) (1.2.0)\n",
            "Requirement already satisfied: click in /usr/local/lib/python3.8/dist-packages (from nltk) (8.1.3)\n",
            "Requirement already satisfied: tqdm in /usr/local/lib/python3.8/dist-packages (from nltk) (4.64.1)\n",
            "Requirement already satisfied: regex>=2021.8.3 in /usr/local/lib/python3.8/dist-packages (from nltk) (2022.6.2)\n"
          ]
        }
      ]
    },
    {
      "cell_type": "code",
      "source": [
        "import nltk"
      ],
      "metadata": {
        "id": "mGgR88WhgJ1-"
      },
      "execution_count": null,
      "outputs": []
    },
    {
      "cell_type": "code",
      "source": [
        "nltk.download('punkt')\n",
        "nltk.download('stopwords')\n"
      ],
      "metadata": {
        "colab": {
          "base_uri": "https://localhost:8080/"
        },
        "id": "Yqmw20yAgcJp",
        "outputId": "6a12a99b-0e3d-4d30-86e0-b221f8d2a4ce"
      },
      "execution_count": null,
      "outputs": [
        {
          "output_type": "stream",
          "name": "stderr",
          "text": [
            "[nltk_data] Downloading package punkt to /root/nltk_data...\n",
            "[nltk_data]   Package punkt is already up-to-date!\n",
            "[nltk_data] Downloading package stopwords to /root/nltk_data...\n",
            "[nltk_data]   Unzipping corpora/stopwords.zip.\n"
          ]
        },
        {
          "output_type": "execute_result",
          "data": {
            "text/plain": [
              "True"
            ]
          },
          "metadata": {},
          "execution_count": 13
        }
      ]
    },
    {
      "cell_type": "code",
      "source": [
        "sentence_list"
      ],
      "metadata": {
        "id": "C4HW7bl-gM4j"
      },
      "execution_count": null,
      "outputs": []
    },
    {
      "cell_type": "code",
      "source": [
        "import re\n",
        "import heapq\n"
      ],
      "metadata": {
        "id": "x7XJPrkOhOXv"
      },
      "execution_count": null,
      "outputs": []
    },
    {
      "cell_type": "code",
      "source": [
        "stopwords = nltk.corpus.stopwords.words('english')"
      ],
      "metadata": {
        "id": "vzGilEXvgjWq"
      },
      "execution_count": null,
      "outputs": []
    },
    {
      "cell_type": "code",
      "source": [
        "text =\"\""
      ],
      "metadata": {
        "id": "t358bB7zjLv3"
      },
      "execution_count": 1,
      "outputs": []
    },
    {
      "cell_type": "markdown",
      "source": [
        "# New Section"
      ],
      "metadata": {
        "id": "VPR6HhtRNfij"
      }
    },
    {
      "cell_type": "code",
      "source": [
        "formatted_article_text = re.sub('[^a-zA-Z]', ' ', text )\n",
        "formatted_article_text = re.sub(r'\\s+', ' ', formatted_article_text)"
      ],
      "metadata": {
        "id": "I9SA74BkhLg2"
      },
      "execution_count": null,
      "outputs": []
    },
    {
      "cell_type": "code",
      "source": [
        "sentence_list = nltk.sent_tokenize(text)"
      ],
      "metadata": {
        "id": "cbNWG-6vfwJI"
      },
      "execution_count": null,
      "outputs": []
    },
    {
      "cell_type": "code",
      "source": [
        "word_frequencies = {}\n",
        "for word in nltk.word_tokenize(formatted_article_text):\n",
        "    if word not in stopwords:\n",
        "        if word not in word_frequencies.keys():\n",
        "            word_frequencies[word] = 1\n",
        "        else:\n",
        "            word_frequencies[word] += 1\n"
      ],
      "metadata": {
        "id": "YRb47fQPgwid"
      },
      "execution_count": null,
      "outputs": []
    },
    {
      "cell_type": "code",
      "source": [
        "maximum_frequncy = max(word_frequencies.values())\n",
        "\n",
        "for word in word_frequencies.keys():\n",
        "    word_frequencies[word] = (word_frequencies[word]/maximum_frequncy)"
      ],
      "metadata": {
        "id": "IZZksCcAhUFA"
      },
      "execution_count": null,
      "outputs": []
    },
    {
      "cell_type": "code",
      "source": [
        "sentence_scores = {}\n",
        "for sent in sentence_list:\n",
        "    for word in nltk.word_tokenize(sent.lower()):\n",
        "        if word in word_frequencies.keys():\n",
        "            if len(sent.split(' ')) < 30:\n",
        "                if sent not in sentence_scores.keys():\n",
        "                    sentence_scores[sent] = word_frequencies[word]\n",
        "                else:\n",
        "                    sentence_scores[sent] += word_frequencies[word]\n"
      ],
      "metadata": {
        "id": "6L4RuBQ5hqF8"
      },
      "execution_count": null,
      "outputs": []
    },
    {
      "cell_type": "code",
      "source": [],
      "metadata": {
        "id": "3immZZuHhvCu"
      },
      "execution_count": null,
      "outputs": []
    },
    {
      "cell_type": "code",
      "source": [
        "summary_sentences = heapq.nlargest(7, sentence_scores, key=sentence_scores.get)\n",
        "\n",
        "summary = ' \\n\\n'.join(summary_sentences)\n",
        "print(summary)"
      ],
      "metadata": {
        "colab": {
          "base_uri": "https://localhost:8080/"
        },
        "id": "WiHvaJP0hyEf",
        "outputId": "15cf8aa1-5f42-4251-c47b-56b60139415a"
      },
      "execution_count": null,
      "outputs": [
        {
          "output_type": "stream",
          "name": "stdout",
          "text": [
            "In pre-timed or fixed time signal control, Webster’s formula\n",
            "is used to calculate the green and the cycle time offline using\n",
            "traffic data collected from the road network. \n",
            "\n",
            "Comparison with historic value\n",
            "tracks the traffic pattern over a large period and queue value\n",
            "of previous time period tracks short time variations. \n",
            "\n",
            "For proper estimation\n",
            "of current traffic state, queue value has to be used along\n",
            "with vehicle occupancy and count, which tends to stagnate\n",
            "during high traffic flow. \n",
            "\n",
            "load old\n",
            "min(load new − load target , 0)/2, if load new , load old\n",
            "{\n",
            "The old value of load is updated with current load value after\n",
            "every time period. \n",
            "\n",
            "The learning period has to be long enough\n",
            "to allow aggregation of sufficient traffic information to\n",
            "estimate the current traffic state and capture traffic dynamics. \n",
            "\n",
            "Combining the rate of change of traffic and current\n",
            "change in traffic, traffic at the intersection is classified into\n",
            "nine possible states and is shown in Table 1. \n",
            "\n",
            "Agent\n",
            "possesses local memory to store traffic demand and create a\n",
            "data repository to assess future traffic demand and\n",
            "effectiveness of agent’s actions.\n"
          ]
        }
      ]
    },
    {
      "cell_type": "code",
      "source": [],
      "metadata": {
        "id": "PQnxKOT7hyqC"
      },
      "execution_count": null,
      "outputs": []
    }
  ]
}